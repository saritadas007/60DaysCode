{
 "metadata": {
  "language_info": {
   "codemirror_mode": {
    "name": "ipython",
    "version": 3
   },
   "file_extension": ".py",
   "mimetype": "text/x-python",
   "name": "python",
   "nbconvert_exporter": "python",
   "pygments_lexer": "ipython3",
   "version": "3.8.2-final"
  },
  "orig_nbformat": 2,
  "kernelspec": {
   "name": "python3",
   "display_name": "Python 3.8.2 64-bit",
   "metadata": {
    "interpreter": {
     "hash": "082e9a3bcad0a290d0001e938aa60b99250c6c2ef33a923c00b70f9826caf4b7"
    }
   }
  }
 },
 "nbformat": 4,
 "nbformat_minor": 2,
 "cells": [
  {
   "cell_type": "code",
   "execution_count": 2,
   "metadata": {},
   "outputs": [
    {
     "output_type": "stream",
     "name": "stdout",
     "text": [
      "Original variables are sarita and das\nAfter swapping variables are das and sarita (without using 3rd variable)\nAfter swapping variables are sarita and das (using 3rd variable)\n"
     ]
    }
   ],
   "source": [
    "#Day 1 : Create a program that swaps the values of two variables.\n",
    "var_1 = input(\"Enter the first variable: \") #Enter the first variable\n",
    "var_2 = input(\"Enter the second variable: \") #Enter the second variable\n",
    "print(\"Original variables are \" + var_1 + \" and \" + var_2)\n",
    "var_1,var_2 = var_2,var_1 #Swapping of variables without using 3rd variable\n",
    "print(\"After swapping variables are \" + var_1 + \" and \" + var_2 + \" (without using 3rd variable)\")\n",
    "\n",
    "temp = var_1\n",
    "var_1 = var_2 \n",
    "var_2 = temp #Swapping of variables by using 3rd variable\n",
    "print(\"After swapping variables are \" + var_1 + \" and \" + var_2 + \" (using 3rd variable)\")"
   ]
  },
  {
   "cell_type": "code",
   "execution_count": null,
   "metadata": {},
   "outputs": [],
   "source": []
  }
 ]
}